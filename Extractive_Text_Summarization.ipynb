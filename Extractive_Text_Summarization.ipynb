{
  "nbformat": 4,
  "nbformat_minor": 0,
  "metadata": {
    "colab": {
      "name": "Extractive Text Summarization.ipynb",
      "provenance": [],
      "authorship_tag": "ABX9TyMdsK0/4Uk7EW9AsW3JNeLd",
      "include_colab_link": true
    },
    "kernelspec": {
      "name": "python3",
      "display_name": "Python 3"
    }
  },
  "cells": [
    {
      "cell_type": "markdown",
      "metadata": {
        "id": "view-in-github",
        "colab_type": "text"
      },
      "source": [
        "<a href=\"https://colab.research.google.com/github/C3Suryansu/Extractive-Text-Summarization/blob/master/Extractive_Text_Summarization.ipynb\" target=\"_parent\"><img src=\"https://colab.research.google.com/assets/colab-badge.svg\" alt=\"Open In Colab\"/></a>"
      ]
    },
    {
      "cell_type": "code",
      "metadata": {
        "id": "Y-mkc81l20f5",
        "colab_type": "code",
        "colab": {
          "base_uri": "https://localhost:8080/",
          "height": 51
        },
        "outputId": "1162583f-6628-4e5b-dea1-ecca662c2bc6"
      },
      "source": [
        "import nltk\n",
        "nltk.download('stopwords')\n",
        "from nltk.corpus import stopwords\n",
        "from nltk.cluster.util import cosine_distance\n",
        "import numpy as np\n",
        "import networkx as nx"
      ],
      "execution_count": 111,
      "outputs": [
        {
          "output_type": "stream",
          "text": [
            "[nltk_data] Downloading package stopwords to /root/nltk_data...\n",
            "[nltk_data]   Package stopwords is already up-to-date!\n"
          ],
          "name": "stdout"
        }
      ]
    },
    {
      "cell_type": "code",
      "metadata": {
        "id": "zeVzOOqzF9MA",
        "colab_type": "code",
        "colab": {}
      },
      "source": [
        "def read_article(file_name):\n",
        "  file = open(file_name,'r')\n",
        "  file_data = file.readlines()\n",
        "  article = file_data[0].split('.')\n",
        "  sentences = []\n",
        "  for sentence in article:\n",
        "    print(sentence)\n",
        "    sentences.append(sentence.replace(\"[^a-zA-Z]\", \" \").split(\" \"))\n",
        "  sentences.pop() \n",
        "    \n",
        "  return sentences"
      ],
      "execution_count": 0,
      "outputs": []
    },
    {
      "cell_type": "code",
      "metadata": {
        "id": "ASpVZuTRRIVF",
        "colab_type": "code",
        "colab": {}
      },
      "source": [
        "def sentence_similarity(sent1, sent2, stopwords = None):\n",
        "  if stopwords is None:\n",
        "    stopwords = []\n",
        "  sent1 = [w.lower() for w in sent1]\n",
        "  sent2 = [w.lower() for w in sent2]\n",
        "  all_words = list(set(sent1 + sent2))\n",
        "  vector_1 = [0] * len(all_words)\n",
        "  vector_2 = [0] * len(all_words)\n",
        "\n",
        "  for w in sent1:\n",
        "    if w in stopwords:\n",
        "      continue\n",
        "    vector_1[all_words.index(w)] += 1\n",
        "  \n",
        "  for w in sent2:\n",
        "    if w in stopwords:\n",
        "      continue\n",
        "    vector_2[all_words.index(w)] += 1\n",
        "\n",
        "  return 1 - cosine_distance(vector_1, vector_2)\n"
      ],
      "execution_count": 0,
      "outputs": []
    },
    {
      "cell_type": "code",
      "metadata": {
        "id": "Tm1PaaCjV5Ex",
        "colab_type": "code",
        "colab": {
          "base_uri": "https://localhost:8080/",
          "height": 34
        },
        "outputId": "645b3a76-d7d9-4806-869e-4b2e81400402"
      },
      "source": [
        "value = sentence_similarity(\"This is a dog.\", \"This thing here refers to an animal called dog.\")\n",
        "value"
      ],
      "execution_count": 115,
      "outputs": [
        {
          "output_type": "execute_result",
          "data": {
            "text/plain": [
              "0.7781047020641257"
            ]
          },
          "metadata": {
            "tags": []
          },
          "execution_count": 115
        }
      ]
    },
    {
      "cell_type": "code",
      "metadata": {
        "id": "wIwAf0B1WHJN",
        "colab_type": "code",
        "colab": {}
      },
      "source": [
        "def build_similarity_matrix(sentences,stop_words):\n",
        "\n",
        "  similarity_matrix = np.zeros((len(sentences), len(sentences)))\n",
        "  #print(similarity_matrix)\n",
        "\n",
        "  for idx1 in range(len(sentences)):\n",
        "    for idx2 in range(len(sentences)):\n",
        "      if idx1 == idx2:\n",
        "        continue\n",
        "      similarity_matrix[idx1][idx2] = sentence_similarity(sentences[idx1], sentences[idx2], stop_words)\n",
        "  return similarity_matrix\n"
      ],
      "execution_count": 0,
      "outputs": []
    },
    {
      "cell_type": "code",
      "metadata": {
        "id": "Hhx62B4lYbC8",
        "colab_type": "code",
        "colab": {}
      },
      "source": [
        "#check1 = build_similarity_matrix([\"This is a worthy cat.\", \"That's not a worthy cat.\"], stopwords.words('english'))\n",
        "#print(check1)"
      ],
      "execution_count": 0,
      "outputs": []
    },
    {
      "cell_type": "code",
      "metadata": {
        "id": "BAfCwanpYuWn",
        "colab_type": "code",
        "colab": {}
      },
      "source": [
        "def generate_summary(file_name, top_n = 5):\n",
        "  stop_words = stopwords.words('english')\n",
        "  summarized_text = []\n",
        "\n",
        "  sentences = read_article(file_name)\n",
        "\n",
        "  sentence_similarity_matrix = build_similarity_matrix(sentences, stop_words)\n",
        "  #print(sentence_similarity_matrix)\n",
        "\n",
        "  sentence_similarity_graph = nx.from_numpy_array(sentence_similarity_matrix)\n",
        "  #print(sentence_similarity_graph)\n",
        "  scores = nx.pagerank(sentence_similarity_graph)\n",
        "  #print(scores)\n",
        "\n",
        "  ranked_sentence = sorted(((scores[i],s) for i,s in enumerate(sentences)), reverse = True)\n",
        "  print(\"Indexes of top ranked sentences are \", ranked_sentence)\n",
        "\n",
        "  for i in range(top_n):\n",
        "    summarized_text.append(\" \".join(ranked_sentence[i][1]))\n",
        "\n",
        "  print(\"Summarized text is : \\n\",\". \".join(summarized_text)) #prints the top top_n informative sentences from the text file."
      ],
      "execution_count": 0,
      "outputs": []
    },
    {
      "cell_type": "code",
      "metadata": {
        "id": "d96y5YUDbKQa",
        "colab_type": "code",
        "colab": {
          "base_uri": "https://localhost:8080/",
          "height": 34
        },
        "outputId": "e2c43175-e803-4dbb-cbe3-23e05f85ff49"
      },
      "source": [
        "l = stopwords.words('english')\n",
        "l[0:10]"
      ],
      "execution_count": 134,
      "outputs": [
        {
          "output_type": "execute_result",
          "data": {
            "text/plain": [
              "['i', 'me', 'my', 'myself', 'we', 'our', 'ours', 'ourselves', 'you', \"you're\"]"
            ]
          },
          "metadata": {
            "tags": []
          },
          "execution_count": 134
        }
      ]
    },
    {
      "cell_type": "code",
      "metadata": {
        "id": "fylFU_j6bMcC",
        "colab_type": "code",
        "colab": {
          "base_uri": "https://localhost:8080/",
          "height": 241
        },
        "outputId": "828ef694-8c36-4a99-83eb-e65ad7baf81a"
      },
      "source": [
        "generate_summary('new_1.txt') "
      ],
      "execution_count": 131,
      "outputs": [
        {
          "output_type": "stream",
          "text": [
            "The Moon is a barren, rocky world without air and water\n",
            " It has dark lava plain on its surface\n",
            " The Moon is filled wit craters\n",
            " It has no light of its own\n",
            " It gets its light from the Sun\n",
            " The Moo keeps changing its shape as it moves round the Earth\n",
            " It spins on its axis in 27\n",
            "3 days stars were named after the Edwin Aldrin were the first ones to set their foot on the Moon on 21 July 1969 They reached the Moon in their space craft named Apollo II\n",
            "\n",
            "Indexes of top ranked sentences are  [(0.19553317494499464, ['', 'It', 'has', 'no', 'light', 'of', 'its', 'own']), (0.1726072414974697, ['', 'The', 'Moon', 'is', 'filled', 'wit', 'craters']), (0.16096813219094197, ['', 'It', 'gets', 'its', 'light', 'from', 'the', 'Sun']), (0.12987820814490805, ['', 'It', 'spins', 'on', 'its', 'axis', 'in', '27']), (0.12005787716195647, ['', 'It', 'has', 'dark', 'lava', 'plain', 'on', 'its', 'surface']), (0.10150232272247801, ['', 'The', 'Moo', 'keeps', 'changing', 'its', 'shape', 'as', 'it', 'moves', 'round', 'the', 'Earth']), (0.06033553357747015, ['3', 'days', 'stars', 'were', 'named', 'after', 'the', 'Edwin', 'Aldrin', 'were', 'the', 'first', 'ones', 'to', 'set', 'their', 'foot', 'on', 'the', 'Moon', 'on', '21', 'July', '1969', 'They', 'reached', 'the', 'Moon', 'in', 'their', 'space', 'craft', 'named', 'Apollo', 'II']), (0.05911750975978111, ['The', 'Moon', 'is', 'a', 'barren,', 'rocky', 'world', 'without', 'air', 'and', 'water'])]\n",
            "Summarized text is : \n",
            "  It has no light of its own.  The Moon is filled wit craters.  It gets its light from the Sun.  It spins on its axis in 27.  It has dark lava plain on its surface\n"
          ],
          "name": "stdout"
        }
      ]
    },
    {
      "cell_type": "code",
      "metadata": {
        "id": "SRm7nlYqbaNT",
        "colab_type": "code",
        "colab": {}
      },
      "source": [
        ""
      ],
      "execution_count": 0,
      "outputs": []
    }
  ]
}